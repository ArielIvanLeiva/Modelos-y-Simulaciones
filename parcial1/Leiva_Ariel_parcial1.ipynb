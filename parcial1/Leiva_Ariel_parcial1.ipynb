{
 "cells": [
  {
   "cell_type": "code",
   "execution_count": 87,
   "metadata": {},
   "outputs": [
    {
     "name": "stdout",
     "output_type": "stream",
     "text": [
      "                    0\n",
      "N° de sim.   Integral\n",
      "1000        14.376635\n",
      "10000       14.343019\n",
      "100000       14.35855\n"
     ]
    }
   ],
   "source": [
    "from math import sqrt\n",
    "from numpy.random import random\n",
    "import pandas as pd\n",
    "\n",
    "ns = [1000, 10000, 100000]\n",
    "\n",
    "\n",
    "def g(x):\n",
    "    return sqrt(6 * x + 1 + sqrt(6 * x + 1))\n",
    "\n",
    "\n",
    "def monte_carlo(n):\n",
    "    summation = 0\n",
    "\n",
    "    for _ in range(n):\n",
    "        u = random()\n",
    "        summation += g(u)\n",
    "\n",
    "    return 6 * summation / n\n",
    "\n",
    "\n",
    "estimations = [monte_carlo(n) for n in ns]\n",
    "\n",
    "df = pd.DataFrame([\"Integral\"] + estimations, index=[\"N° de sim.\"] + ns)\n",
    "\n",
    "print(df)"
   ]
  },
  {
   "cell_type": "code",
   "execution_count": 92,
   "metadata": {},
   "outputs": [
    {
     "name": "stdout",
     "output_type": "stream",
     "text": [
      "                   0\n",
      "N° de sim.  Integral\n",
      "100             0.33\n",
      "1000           0.366\n",
      "10000         0.3691\n"
     ]
    }
   ],
   "source": [
    "from numpy.random import random\n",
    "import pandas as pd\n",
    "\n",
    "ns = [100, 1000, 10000]\n",
    "\n",
    "\n",
    "def juego():\n",
    "    summation = 0\n",
    "    tries = 0\n",
    "\n",
    "    while summation <= 1:\n",
    "        tries += 1\n",
    "        summation += random()\n",
    "\n",
    "    return tries\n",
    "\n",
    "\n",
    "def pares(n):\n",
    "    summation = 0\n",
    "\n",
    "    for _ in range(n):\n",
    "        tries = juego()\n",
    "\n",
    "        if tries % 2 == 1:\n",
    "            summation += 1\n",
    "\n",
    "    return summation / n\n",
    "\n",
    "\n",
    "estimations = [pares(n) for n in ns]\n",
    "\n",
    "df = pd.DataFrame([\"Integral\"] + estimations, index=[\"N° de sim.\"] + ns)\n",
    "\n",
    "print(df)"
   ]
  }
 ],
 "metadata": {
  "kernelspec": {
   "display_name": "3.12.7",
   "language": "python",
   "name": "python3"
  },
  "language_info": {
   "codemirror_mode": {
    "name": "ipython",
    "version": 3
   },
   "file_extension": ".py",
   "mimetype": "text/x-python",
   "name": "python",
   "nbconvert_exporter": "python",
   "pygments_lexer": "ipython3",
   "version": "3.12.7"
  }
 },
 "nbformat": 4,
 "nbformat_minor": 2
}
