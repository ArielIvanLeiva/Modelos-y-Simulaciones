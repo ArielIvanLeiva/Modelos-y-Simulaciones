{
 "cells": [
  {
   "cell_type": "code",
   "execution_count": null,
   "metadata": {},
   "outputs": [
    {
     "name": "stdout",
     "output_type": "stream",
     "text": [
      "La probabilidad de que salga ileso si tarda 2 segundos es: 0.9048374180359595\n",
      "La probabilidad de que salga ileso si tarda 5 segundos es: 0.7788007830714049\n",
      "La probabilidad de que salga ileso si tarda 10 segundos es: 0.6065306597126334\n",
      "La probabilidad de que salga ileso si tarda 20 segundos es: 0.36787944117144233\n"
     ]
    }
   ],
   "source": [
    "# Ejercicio 7\n",
    "from scipy.stats import poisson\n",
    "\n",
    "# a)\n",
    "# Parámetro del processo de Poisson homogéneo: 3 * 1/minutos\n",
    "lamb = 3\n",
    "\n",
    "for s in [2, 5, 10, 20]:\n",
    "    # Como s está en segundos y lamb en minutos, convertimos s a minutos. mu es el parámetro de N(t) como v.a.\n",
    "    prob = poisson.pmf(0, mu=(lamb * s/60))\n",
    "    print(f\"La probabilidad de que salga ileso si tarda {s} segundos es: {prob}\")\n",
    "    \n",
    "# b)\n",
    "# Parámetro del processo de Poisson homogéneo: 3 * 1/minutos\n",
    "lamb = 3\n",
    "\n",
    "for s in [2, 5, 10, 20]:\n",
    "    # Ahora el cada v.a. del subproceso distribuye Poisson con parámetro lambda*0.8*t\n",
    "    prob = poisson.pmf(0, mu=(lamb * 0.8 * s/60))\n",
    "    print(f\"La probabilidad de que salga ileso si tarda {s} segundos es: {prob}\")\n"
   ]
  }
 ],
 "metadata": {
  "kernelspec": {
   "display_name": "3.12.7",
   "language": "python",
   "name": "python3"
  },
  "language_info": {
   "codemirror_mode": {
    "name": "ipython",
    "version": 3
   },
   "file_extension": ".py",
   "mimetype": "text/x-python",
   "name": "python",
   "nbconvert_exporter": "python",
   "pygments_lexer": "ipython3",
   "version": "3.12.7"
  }
 },
 "nbformat": 4,
 "nbformat_minor": 2
}
