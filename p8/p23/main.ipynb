{
 "cells": [
  {
   "cell_type": "code",
   "execution_count": 41,
   "id": "3f94b2f0",
   "metadata": {},
   "outputs": [
    {
     "name": "stdout",
     "output_type": "stream",
     "text": [
      "Estimated proportion: 0.79\n",
      "real: 6.283185307179586\n",
      "Estimation: 6.238540803032086\n"
     ]
    }
   ],
   "source": [
    "from numpy.random import uniform\n",
    "from scipy.stats import norm\n",
    "from numpy import sqrt\n",
    "\n",
    "def sim_bernoulli(xlim, ylim):\n",
    "    x = (xlim[1]-xlim[0]) * uniform() + xlim[0]\n",
    "    y = (ylim[1]-ylim[0]) * uniform() + ylim[0]\n",
    "\n",
    "    return int((x/2)**2 + y ** 2 <= 1)\n",
    "\n",
    "def bernoulli_estimator_variance(n, sample_mean):\n",
    "    return sample_mean*(1-sample_mean)/n\n",
    "\n",
    "# b)\n",
    "def estimate_proportion(num_of_points):\n",
    "    assertions = 0\n",
    "    \n",
    "    for _ in range(num_of_points):\n",
    "        assertions += sim_bernoulli((-2, 2), (-1, 1))\n",
    "    \n",
    "    return assertions/num_of_points\n",
    "\n",
    "print(f\"Estimated proportion: {estimate_proportion(1000)}\")\n",
    "\n",
    "# c)\n",
    "def get_ic(l=0.1, alpha=0.05):\n",
    "    percentil = norm.ppf(1-alpha/2, 0, 1)\n",
    "    variance_estimation = 0\n",
    "    square_area = 2*4\n",
    "    proportion = sim_bernoulli((-2, 2), (-1, 1))\n",
    "    n = 1\n",
    "    \n",
    "    while n < 100 or square_area * 2 * sqrt(variance_estimation) * percentil >= l:\n",
    "        n += 1\n",
    "        \n",
    "        x = sim_bernoulli((-2, 2), (-1, 1))\n",
    "        proportion = proportion + (x - proportion) / n\n",
    "        variance_estimation = bernoulli_estimator_variance(n, proportion)\n",
    "\n",
    "    estimation = square_area*proportion\n",
    "\n",
    "    return estimation, n, [estimation-l/2, estimation+l/2]\n",
    "\n",
    "p , _ , _ = get_ic()\n",
    "\n",
    "from numpy import pi\n",
    "print(f\"real: {2*pi}\")\n",
    "print(f\"Estimation: {p}\")\n"
   ]
  },
  {
   "cell_type": "code",
   "execution_count": 43,
   "id": "cc6cbd92",
   "metadata": {},
   "outputs": [
    {
     "data": {
      "text/plain": [
       "0.95"
      ]
     },
     "execution_count": 43,
     "metadata": {},
     "output_type": "execute_result"
    }
   ],
   "source": [
    "# Testeando la verdadera confiabilidad de los intervalos\n",
    "\n",
    "ics = [get_ic()[2] for _ in range(100)]\n",
    "from statutils.analysis import get_ic_confidence\n",
    "\n",
    "get_ic_confidence(ics, 2*pi)\n"
   ]
  }
 ],
 "metadata": {
  "kernelspec": {
   "display_name": "3.12.7",
   "language": "python",
   "name": "python3"
  },
  "language_info": {
   "codemirror_mode": {
    "name": "ipython",
    "version": 3
   },
   "file_extension": ".py",
   "mimetype": "text/x-python",
   "name": "python",
   "nbconvert_exporter": "python",
   "pygments_lexer": "ipython3",
   "version": "3.12.7"
  }
 },
 "nbformat": 4,
 "nbformat_minor": 5
}
