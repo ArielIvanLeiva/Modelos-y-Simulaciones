{
 "cells": [
  {
   "cell_type": "code",
   "execution_count": 20,
   "id": "93f59100",
   "metadata": {},
   "outputs": [],
   "source": [
    "from numpy.random import random\n",
    "from numpy import log\n",
    "\n",
    "def l(t):\n",
    "    if 0 <= t < 3:\n",
    "        return 5 + 5 * t\n",
    "    elif 3 <= t <= 5:\n",
    "        return 20\n",
    "    elif 5 < t <= 9:\n",
    "        return 30 - 2 * t\n",
    "    # BE CAREFUL: THIS CAN BROKE SEMANTHICS\n",
    "    else:\n",
    "        return 0\n",
    "\n",
    "def exponential(lam):\n",
    "    return -log(1 - random())/ lam\n",
    "\n",
    "def hot_dog(T):\n",
    "    interv = [1, 2, 6, 8, 9]\n",
    "    lam = [l(1), l(2), 20, l(6), l(8)]\n",
    "\n",
    "    j = 0 # Índice para \"recorrer\" los subintervalos\n",
    "    t = exponential(lam[j])\n",
    "    nt = 0\n",
    "    eventos = []\n",
    "    \n",
    "    while t <= T:\n",
    "        if t <= interv[j]:\n",
    "            u = random()\n",
    "            \n",
    "            if u < l(t)/lam[j]:\n",
    "                nt += 1\n",
    "                eventos.append(t)\n",
    "\n",
    "            t += exponential(lam[j])\n",
    "        else:\n",
    "            t = interv[j] + (t - interv[j]) * lam[j] / lam[j+1]\n",
    "            j += 1\n",
    "            \n",
    "    return (nt, eventos)\n",
    "\n"
   ]
  },
  {
   "cell_type": "code",
   "execution_count": 21,
   "id": "17b50402",
   "metadata": {},
   "outputs": [
    {
     "data": {
      "text/plain": [
       "141.3903"
      ]
     },
     "execution_count": 21,
     "metadata": {},
     "output_type": "execute_result"
    }
   ],
   "source": [
    "n = 10000\n",
    "samp = [hot_dog(9) for _ in range(n)]\n",
    "\n",
    "mean = 0\n",
    "for nt, _ in samp:\n",
    "    mean += nt\n",
    "\n",
    "mean /= n\n",
    "mean\n"
   ]
  }
 ],
 "metadata": {
  "kernelspec": {
   "display_name": "3.10.15",
   "language": "python",
   "name": "python3"
  },
  "language_info": {
   "codemirror_mode": {
    "name": "ipython",
    "version": 3
   },
   "file_extension": ".py",
   "mimetype": "text/x-python",
   "name": "python",
   "nbconvert_exporter": "python",
   "pygments_lexer": "ipython3",
   "version": "3.10.15"
  }
 },
 "nbformat": 4,
 "nbformat_minor": 5
}
