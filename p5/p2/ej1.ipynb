{
 "cells": [
  {
   "cell_type": "code",
   "execution_count": 5,
   "id": "189d8b8e",
   "metadata": {},
   "outputs": [],
   "source": [
    "p = []\n",
    "\n",
    "p.append(0.9/9 + 0.1*3/10)\n",
    "p.append(0.9*2/9 + 0.1*2/10)\n",
    "p.append(0.9*3/9 + 0.1*5/10)\n",
    "p.append(0.9*3/9)\n",
    "\n",
    "# Utilizaré una variable aleatoria Y uniforme discreta en el {0, 1, 2, 3} para el rechazo/la aceptación de X\n",
    "from numpy.random import random\n",
    "\n",
    "def algo_x(p):\n",
    "    c = 1\n",
    "    for px in p:\n",
    "        c = max(c, 4*px)\n",
    "    \n",
    "    u = random()\n",
    "    y = int(4 * random())\n",
    "    \n",
    "    while u >= 4*p[y]/c:\n",
    "        u = random()\n",
    "        y = int(4 * random())\n",
    "    \n",
    "    return y"
   ]
  },
  {
   "cell_type": "code",
   "execution_count": 8,
   "id": "dec9968e",
   "metadata": {},
   "outputs": [
    {
     "name": "stdout",
     "output_type": "stream",
     "text": [
      "{0: 0.1323, 1: 0.2197, 2: 0.3563, 3: 0.2917}\n"
     ]
    },
    {
     "data": {
      "text/plain": [
       "[0.13, 0.22, 0.35000000000000003, 0.30000000000000004]"
      ]
     },
     "execution_count": 8,
     "metadata": {},
     "output_type": "execute_result"
    }
   ],
   "source": [
    "def get_rel_frecuencies(sample, keys=range(1, 10 + 1)):\n",
    "    frecuencies = {i: 0 for i in keys}\n",
    "\n",
    "    for x in sample:\n",
    "        if x in frecuencies.keys():\n",
    "            frecuencies[x] += 1\n",
    "\n",
    "    return {i: value / len(sample) for i, value in frecuencies.items()}\n",
    "\n",
    "samp = [algo_x(p) for _ in range(10000)]\n",
    "print(get_rel_frecuencies(samp, range(0, 4)))\n",
    "p"
   ]
  }
 ],
 "metadata": {
  "kernelspec": {
   "display_name": "3.10.15",
   "language": "python",
   "name": "python3"
  },
  "language_info": {
   "codemirror_mode": {
    "name": "ipython",
    "version": 3
   },
   "file_extension": ".py",
   "mimetype": "text/x-python",
   "name": "python",
   "nbconvert_exporter": "python",
   "pygments_lexer": "ipython3",
   "version": "3.10.15"
  }
 },
 "nbformat": 4,
 "nbformat_minor": 5
}
