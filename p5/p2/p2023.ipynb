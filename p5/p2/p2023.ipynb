{
 "cells": [
  {
   "cell_type": "code",
   "execution_count": null,
   "id": "d580e73f",
   "metadata": {},
   "outputs": [
    {
     "data": {
      "text/plain": [
       "8"
      ]
     },
     "execution_count": 28,
     "metadata": {},
     "output_type": "execute_result"
    }
   ],
   "source": [
    "from numpy.random import random, permutation\n",
    "\n",
    "def sample():\n",
    "    perm = permutation(list(range(1, 10 + 1)))\n",
    "    \n",
    "    tries = 1\n",
    "    possible_values = list(range(1, 10 + 1))\n",
    "    index = int(len(possible_values) * random())\n",
    "    \n",
    "    while possible_values[index] != perm[tries-1] and tries < 10:\n",
    "        possible_values.remove(perm[tries-1])\n",
    "        \n",
    "        tries += 1\n",
    "        index = int(len(possible_values) * random())\n",
    "        \n",
    "    return tries"
   ]
  },
  {
   "cell_type": "code",
   "execution_count": 35,
   "id": "2a403627",
   "metadata": {},
   "outputs": [
    {
     "name": "stdout",
     "output_type": "stream",
     "text": [
      "{1: 0.1061, 2: 0.1001, 3: 0.1002, 4: 0.1004, 5: 0.0984, 6: 0.0969, 7: 0.0967, 8: 0.0988, 9: 0.1025, 10: 0.0999}\n"
     ]
    },
    {
     "data": {
      "text/plain": [
       "5.4707"
      ]
     },
     "execution_count": 35,
     "metadata": {},
     "output_type": "execute_result"
    }
   ],
   "source": [
    "# For testing purposes\n",
    "def get_rel_frecuencies(sample, keys=range(1, 10 + 1)):\n",
    "    frecuencies = {i: 0 for i in keys}\n",
    "\n",
    "    for x in sample:\n",
    "        if x in frecuencies.keys():\n",
    "            frecuencies[x] += 1\n",
    "\n",
    "    return {i: value / len(sample) for i, value in frecuencies.items()}\n",
    "\n",
    "n = 10000\n",
    "samp = [sample() for _ in range(n)]\n",
    "\n",
    "print(get_rel_frecuencies(samp))\n",
    "\n",
    "from statistics import mean\n",
    "mean(samp)"
   ]
  }
 ],
 "metadata": {
  "kernelspec": {
   "display_name": "3.10.15",
   "language": "python",
   "name": "python3"
  },
  "language_info": {
   "codemirror_mode": {
    "name": "ipython",
    "version": 3
   },
   "file_extension": ".py",
   "mimetype": "text/x-python",
   "name": "python",
   "nbconvert_exporter": "python",
   "pygments_lexer": "ipython3",
   "version": "3.10.15"
  }
 },
 "nbformat": 4,
 "nbformat_minor": 5
}
